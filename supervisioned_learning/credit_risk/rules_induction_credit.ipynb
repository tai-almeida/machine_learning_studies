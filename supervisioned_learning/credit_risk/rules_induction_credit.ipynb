{
 "cells": [
  {
   "cell_type": "code",
   "execution_count": null,
   "metadata": {},
   "outputs": [],
   "source": [
    "%pip install Orange3 "
   ]
  },
  {
   "cell_type": "code",
   "execution_count": 2,
   "metadata": {},
   "outputs": [],
   "source": [
    "import Orange"
   ]
  },
  {
   "cell_type": "code",
   "execution_count": 11,
   "metadata": {},
   "outputs": [],
   "source": [
    "credit_base = Orange.data.Table('credit_data_rules.csv')"
   ]
  },
  {
   "cell_type": "code",
   "execution_count": 12,
   "metadata": {},
   "outputs": [
    {
     "data": {
      "text/plain": [
       "[[66155.9, 59.017, 8106.53 | 0],\n",
       " [34415.2, 48.1172, 6564.75 | 0],\n",
       " [57317.2, 63.108, 8020.95 | 0],\n",
       " [42709.5, 45.752, 6103.64 | 0],\n",
       " [66952.7, 18.5843, 8770.1 | 1],\n",
       " ...\n",
       "]"
      ]
     },
     "execution_count": 12,
     "metadata": {},
     "output_type": "execute_result"
    }
   ],
   "source": [
    "credit_base"
   ]
  },
  {
   "cell_type": "code",
   "execution_count": 15,
   "metadata": {},
   "outputs": [
    {
     "data": {
      "text/plain": [
       "[income, age, loan | default]"
      ]
     },
     "execution_count": 15,
     "metadata": {},
     "output_type": "execute_result"
    }
   ],
   "source": [
    "credit_base.domain"
   ]
  },
  {
   "cell_type": "code",
   "execution_count": 19,
   "metadata": {},
   "outputs": [],
   "source": [
    "divided_base = Orange.evaluation.testing.sample(credit_base, n=0.25)\n",
    "training_base = divided_base[1]\n",
    "test_base = divided_base[0]"
   ]
  },
  {
   "cell_type": "code",
   "execution_count": 23,
   "metadata": {},
   "outputs": [
    {
     "data": {
      "text/plain": [
       "(1500, 500)"
      ]
     },
     "execution_count": 23,
     "metadata": {},
     "output_type": "execute_result"
    }
   ],
   "source": [
    "len(training_base), len(test_base)"
   ]
  },
  {
   "cell_type": "code",
   "execution_count": 25,
   "metadata": {},
   "outputs": [],
   "source": [
    "# creates the rules\n",
    "cn2 = Orange.classification.rules.CN2Learner()\n",
    "credit_rules = cn2(training_base)"
   ]
  },
  {
   "cell_type": "code",
   "execution_count": 26,
   "metadata": {},
   "outputs": [
    {
     "name": "stdout",
     "output_type": "stream",
     "text": [
      "IF age>=34.851817262359 THEN default=0 \n",
      "IF age>=34.7514377613552 THEN default=1 \n",
      "IF loan<=2495.13299137587 AND income>=20145.9885970689 THEN default=0 \n",
      "IF loan>=7718.479795185201 AND loan>=9601.375482171099 THEN default=1 \n",
      "IF income<=31702.3342987522 AND age>=32.1632712800056 THEN default=1 \n",
      "IF age<=18.055874488782102 AND income>=32197.6207010448 THEN default=0 \n",
      "IF loan>=7718.479795185201 AND age>=20.9909665295854 THEN default=1 \n",
      "IF age<=18.2502651894465 AND age>=18.2502651894465 THEN default=0 \n",
      "IF age<=18.306216438300897 AND age>=18.306216438300897 THEN default=0 \n",
      "IF age<=18.326122155413 AND income>=43509.7577562556 THEN default=1 \n",
      "IF age>=34.669146894011604 THEN default=1 \n",
      "IF loan<=5659.509277874139 AND income>=45311.831838917 THEN default=0 \n",
      "IF income>=58828.2921165228 AND age>=20.3008601283655 THEN default=0 \n",
      "IF income<=25146.5956843458 AND age>=22.0062600099482 THEN default=1 \n",
      "IF loan<=3105.4430213977303 AND income>=26617.0303151011 THEN default=0 \n",
      "IF income<=31702.3342987522 AND loan>=3665.88089899456 THEN default=1 \n",
      "IF loan<=5282.728560308379 AND income>=38042.0841556042 THEN default=0 \n",
      "IF income>=54421.054006088496 AND income>=66008.3970683627 THEN default=1 \n",
      "IF loan>=4625.19337762744 AND income<=48430.3596126847 AND loan>=5785.88427485782 THEN default=1 \n",
      "IF loan>=7218.9682240579195 AND age>=19.372464833315497 THEN default=1 \n",
      "IF income>=54421.054006088496 THEN default=0 \n",
      "IF age<=21.1448488398455 AND income>=49640.00470237809 THEN default=0 \n",
      "IF age<=20.6262163859792 AND age>=20.6262163859792 THEN default=0 \n",
      "IF age<=20.9865613454022 AND income>=34635.7447491027 THEN default=1 \n",
      "IF income>=34981.3678348437 AND income>=51768.0053412914 THEN default=1 \n",
      "IF loan<=5061.77783089573 AND age>=28.354908418376002 THEN default=0 \n",
      "IF income<=25640.0788831525 AND age>=22.656479598488698 THEN default=1 \n",
      "IF loan<=5061.77783089573 AND age>=24.4157260977663 THEN default=1 \n",
      "IF loan>=5282.728560308379 AND income<=48430.3596126847 AND age>=27.873486188706003 THEN default=1 \n",
      "IF loan<=3343.81635769923 AND age>=21.0349717177451 THEN default=0 \n",
      "IF age>=33.0311115211807 THEN default=0 \n",
      "IF age<=21.9063058434986 AND age>=21.9063058434986 THEN default=0 \n",
      "IF loan<=5416.3577980789005 AND age>=22.223386954050497 THEN default=0 \n",
      "IF age>=21.1448488398455 AND income<=48430.3596126847 AND age>=26.809132419060898 THEN default=0 \n",
      "IF income>=34981.3678348437 THEN default=1 \n",
      "IF income>=32406.5707321279 THEN default=0 \n",
      "IF income<=27514.427963178598 THEN default=1 \n",
      "IF TRUE THEN default=0 \n"
     ]
    }
   ],
   "source": [
    "# observe the rules that were generated\n",
    "for rules in credit_rules.rule_list:\n",
    "    print(rules)\n",
    "  "
   ]
  },
  {
   "cell_type": "code",
   "execution_count": 29,
   "metadata": {},
   "outputs": [],
   "source": [
    "predictions = Orange.evaluation.testing.TestOnTestData(training_base, test_base, [lambda testdata: credit_rules])"
   ]
  },
  {
   "cell_type": "code",
   "execution_count": 30,
   "metadata": {},
   "outputs": [
    {
     "data": {
      "text/plain": [
       "array([0.974])"
      ]
     },
     "execution_count": 30,
     "metadata": {},
     "output_type": "execute_result"
    }
   ],
   "source": [
    "Orange.evaluation.CA(predictions)"
   ]
  }
 ],
 "metadata": {
  "kernelspec": {
   "display_name": "Python 3",
   "language": "python",
   "name": "python3"
  },
  "language_info": {
   "codemirror_mode": {
    "name": "ipython",
    "version": 3
   },
   "file_extension": ".py",
   "mimetype": "text/x-python",
   "name": "python",
   "nbconvert_exporter": "python",
   "pygments_lexer": "ipython3",
   "version": "3.10.11"
  },
  "orig_nbformat": 4
 },
 "nbformat": 4,
 "nbformat_minor": 2
}
