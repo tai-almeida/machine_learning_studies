{
 "cells": [
  {
   "cell_type": "code",
   "execution_count": null,
   "metadata": {},
   "outputs": [],
   "source": [
    "%pip install Orange3 "
   ]
  },
  {
   "cell_type": "code",
   "execution_count": 2,
   "metadata": {},
   "outputs": [],
   "source": [
    "import Orange"
   ]
  },
  {
   "cell_type": "code",
   "execution_count": 12,
   "metadata": {},
   "outputs": [],
   "source": [
    "credit_base = Orange.data.Table('data/credit_data_rules.csv')"
   ]
  },
  {
   "cell_type": "code",
   "execution_count": 4,
   "metadata": {},
   "outputs": [
    {
     "data": {
      "text/plain": [
       "[[66155.9, 59.017, 8106.53 | 0],\n",
       " [34415.2, 48.1172, 6564.75 | 0],\n",
       " [57317.2, 63.108, 8020.95 | 0],\n",
       " [42709.5, 45.752, 6103.64 | 0],\n",
       " [66952.7, 18.5843, 8770.1 | 1],\n",
       " ...\n",
       "]"
      ]
     },
     "execution_count": 4,
     "metadata": {},
     "output_type": "execute_result"
    }
   ],
   "source": [
    "credit_base"
   ]
  },
  {
   "cell_type": "code",
   "execution_count": 5,
   "metadata": {},
   "outputs": [
    {
     "data": {
      "text/plain": [
       "[income, age, loan | default]"
      ]
     },
     "execution_count": 5,
     "metadata": {},
     "output_type": "execute_result"
    }
   ],
   "source": [
    "credit_base.domain"
   ]
  },
  {
   "cell_type": "code",
   "execution_count": 6,
   "metadata": {},
   "outputs": [],
   "source": [
    "divided_base = Orange.evaluation.testing.sample(credit_base, n=0.25)\n",
    "training_base = divided_base[1]\n",
    "test_base = divided_base[0]"
   ]
  },
  {
   "cell_type": "code",
   "execution_count": 7,
   "metadata": {},
   "outputs": [
    {
     "data": {
      "text/plain": [
       "(1500, 500)"
      ]
     },
     "execution_count": 7,
     "metadata": {},
     "output_type": "execute_result"
    }
   ],
   "source": [
    "len(training_base), len(test_base)"
   ]
  },
  {
   "cell_type": "code",
   "execution_count": 8,
   "metadata": {},
   "outputs": [],
   "source": [
    "# creates the rules\n",
    "cn2 = Orange.classification.rules.CN2Learner()\n",
    "credit_rules = cn2(training_base)"
   ]
  },
  {
   "cell_type": "code",
   "execution_count": 9,
   "metadata": {},
   "outputs": [
    {
     "name": "stdout",
     "output_type": "stream",
     "text": [
      "IF age>=34.851817262359 THEN default=0 \n",
      "IF age>=34.7514377613552 THEN default=1 \n",
      "IF loan<=2495.13299137587 AND income>=20511.4294355735 THEN default=0 \n",
      "IF loan>=7676.310662575241 AND loan>=9601.375482171099 THEN default=1 \n",
      "IF loan>=7676.310662575241 AND loan>=9595.28628892989 THEN default=0 \n",
      "IF loan>=7676.310662575241 AND age>=21.4227129220963 THEN default=1 \n",
      "IF age>=34.669146894011604 THEN default=1 \n",
      "IF income<=31702.3342987522 AND age>=32.516422502230895 THEN default=1 \n",
      "IF income<=31702.3342987522 AND age>=31.9685264034197 THEN default=0 \n",
      "IF income<=31702.3342987522 AND age>=29.297398745548 THEN default=1 \n",
      "IF income<=31702.3342987522 AND age>=29.2350565218367 THEN default=0 \n",
      "IF income<=31702.3342987522 AND loan>=3682.8619314122707 THEN default=1 \n",
      "IF loan<=5502.73603087282 AND income>=38042.0841556042 THEN default=0 \n",
      "IF income>=58828.2921165228 AND age>=20.1755322436802 THEN default=0 \n",
      "IF age<=22.926914404612003 AND loan>=6994.48780081424 THEN default=1 \n",
      "IF age>=21.2164916703478 AND age>=34.645415822044 THEN default=0 \n",
      "IF age>=21.2164916703478 AND age>=33.6895613595843 THEN default=1 \n",
      "IF age>=21.2164916703478 AND age>=33.403173910453894 THEN default=0 \n",
      "IF age<=21.2164916703478 AND income>=50895.8103414625 THEN default=0 \n",
      "IF loan>=4625.19337762744 AND loan>=6342.56790924236 THEN default=1 \n",
      "IF income>=50527.5841732509 THEN default=0 \n",
      "IF loan>=4625.19337762744 AND loan>=5862.83302915672 THEN default=1 \n",
      "IF age>=31.4007989270613 THEN default=0 \n",
      "IF age>=30.142012033611497 THEN default=1 \n",
      "IF age>=29.3780835419893 THEN default=0 \n",
      "IF income>=37887.5493933447 THEN default=1 \n",
      "IF loan>=4849.33378471958 THEN default=1 \n",
      "IF income>=27407.056202646298 THEN default=0 \n",
      "IF age>=22.656479598488698 THEN default=1 \n",
      "IF income>=26218.4948474169 THEN default=1 \n",
      "IF income<=25146.5956843458 THEN default=0 \n",
      "IF TRUE THEN default=0 \n"
     ]
    }
   ],
   "source": [
    "# observe the rules that were generated\n",
    "for rules in credit_rules.rule_list:\n",
    "    print(rules)\n",
    "  "
   ]
  },
  {
   "cell_type": "code",
   "execution_count": 10,
   "metadata": {},
   "outputs": [],
   "source": [
    "predictions = Orange.evaluation.testing.TestOnTestData(training_base, test_base, [lambda testdata: credit_rules])"
   ]
  },
  {
   "cell_type": "code",
   "execution_count": 11,
   "metadata": {},
   "outputs": [
    {
     "data": {
      "text/plain": [
       "array([0.968])"
      ]
     },
     "execution_count": 11,
     "metadata": {},
     "output_type": "execute_result"
    }
   ],
   "source": [
    "Orange.evaluation.CA(predictions)"
   ]
  }
 ],
 "metadata": {
  "kernelspec": {
   "display_name": "Python 3",
   "language": "python",
   "name": "python3"
  },
  "language_info": {
   "codemirror_mode": {
    "name": "ipython",
    "version": 3
   },
   "file_extension": ".py",
   "mimetype": "text/x-python",
   "name": "python",
   "nbconvert_exporter": "python",
   "pygments_lexer": "ipython3",
   "version": "3.10.12"
  },
  "orig_nbformat": 4
 },
 "nbformat": 4,
 "nbformat_minor": 2
}
