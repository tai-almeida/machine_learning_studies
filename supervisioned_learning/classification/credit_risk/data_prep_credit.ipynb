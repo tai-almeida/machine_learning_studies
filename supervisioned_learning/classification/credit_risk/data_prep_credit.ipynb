{
 "cells": [
  {
   "cell_type": "code",
   "execution_count": 6,
   "id": "25665479",
   "metadata": {},
   "outputs": [],
   "source": [
    "import numpy as np"
   ]
  },
  {
   "cell_type": "code",
   "execution_count": 2,
   "id": "640d3418",
   "metadata": {},
   "outputs": [],
   "source": [
    "from sklearn.model_selection import GridSearchCV\n",
    "from sklearn.tree import DecisionTreeClassifier\n",
    "from sklearn.ensemble import RandomForestClassifier\n",
    "from sklearn.neighbors import KNeighborsClassifier\n",
    "from sklearn.linear_model import LogisticRegression\n",
    "from sklearn.svm import SVC\n",
    "from sklearn.neural_network import MLPClassifier"
   ]
  },
  {
   "cell_type": "code",
   "execution_count": 3,
   "id": "5a5b1519",
   "metadata": {},
   "outputs": [],
   "source": [
    "import pickle\n",
    "with open('data/credit.pkl', 'rb') as f:\n",
    "    x_training, y_training, x_test, y_test = pickle.load(f)"
   ]
  },
  {
   "cell_type": "code",
   "execution_count": 4,
   "id": "cd6b06a7",
   "metadata": {},
   "outputs": [
    {
     "data": {
      "text/plain": [
       "((1500, 3), (1500,))"
      ]
     },
     "execution_count": 4,
     "metadata": {},
     "output_type": "execute_result"
    }
   ],
   "source": [
    "x_training.shape, y_training.shape"
   ]
  },
  {
   "cell_type": "code",
   "execution_count": 5,
   "id": "4feeb9ea",
   "metadata": {},
   "outputs": [
    {
     "data": {
      "text/plain": [
       "((500, 3), (500,))"
      ]
     },
     "execution_count": 5,
     "metadata": {},
     "output_type": "execute_result"
    }
   ],
   "source": [
    "x_test.shape, y_test.shape"
   ]
  },
  {
   "cell_type": "code",
   "execution_count": 7,
   "id": "e43de5f8",
   "metadata": {},
   "outputs": [
    {
     "data": {
      "text/plain": [
       "(2000, 3)"
      ]
     },
     "execution_count": 7,
     "metadata": {},
     "output_type": "execute_result"
    }
   ],
   "source": [
    "# Using K-Cross Validation - Concatenate testing and training data bases\n",
    "x_credit = np.concatenate((x_training, x_test), axis=0)\n",
    "x_credit.shape"
   ]
  },
  {
   "cell_type": "code",
   "execution_count": 9,
   "id": "0a6001b1",
   "metadata": {},
   "outputs": [
    {
     "data": {
      "text/plain": [
       "(2000,)"
      ]
     },
     "execution_count": 9,
     "metadata": {},
     "output_type": "execute_result"
    }
   ],
   "source": [
    "y_credit = np.concatenate((y_training, y_test), axis=0)\n",
    "y_credit.shape"
   ]
  },
  {
   "cell_type": "markdown",
   "id": "2600520e",
   "metadata": {},
   "source": [
    "Decision Tree"
   ]
  },
  {
   "cell_type": "code",
   "execution_count": 11,
   "id": "228979eb",
   "metadata": {},
   "outputs": [],
   "source": [
    "parameters = {'criterion': ['gini', 'entropy'],\n",
    "              'splitter': ['best', 'random'],\n",
    "              'min_samples_split':[2, 5, 10],\n",
    "              'min_samples_leaf': [1, 5, 10]}"
   ]
  },
  {
   "cell_type": "code",
   "execution_count": 15,
   "id": "cf583fd0",
   "metadata": {},
   "outputs": [
    {
     "name": "stdout",
     "output_type": "stream",
     "text": [
      "{'criterion': 'entropy', 'min_samples_leaf': 1, 'min_samples_split': 5, 'splitter': 'best'}\n",
      "0.983\n"
     ]
    }
   ],
   "source": [
    "grid_search = GridSearchCV(estimator=DecisionTreeClassifier(), param_grid=parameters)\n",
    "grid_search.fit(x_credit, y_credit)\n",
    "best_parameters = grid_search.best_params_\n",
    "best_results = grid_search.best_score_\n",
    "print(best_parameters)\n",
    "print(best_results)"
   ]
  },
  {
   "cell_type": "markdown",
   "id": "531894d6",
   "metadata": {},
   "source": [
    "Random Forest"
   ]
  },
  {
   "cell_type": "code",
   "execution_count": 16,
   "id": "1930f2b6",
   "metadata": {},
   "outputs": [],
   "source": [
    "parameters = {'criterion': ['gini', 'entropy'],\n",
    "              'n_estimators': [10, 40, 100, 150],\n",
    "              'min_samples_split':[2, 5, 10],\n",
    "              'min_samples_leaf': [1, 5, 10]}"
   ]
  },
  {
   "cell_type": "code",
   "execution_count": 17,
   "id": "602f216b",
   "metadata": {},
   "outputs": [
    {
     "name": "stdout",
     "output_type": "stream",
     "text": [
      "{'criterion': 'entropy', 'min_samples_leaf': 1, 'min_samples_split': 5, 'n_estimators': 40}\n",
      "0.986\n"
     ]
    }
   ],
   "source": [
    "grid_search = GridSearchCV(estimator=RandomForestClassifier(), param_grid=parameters)\n",
    "grid_search.fit(x_credit, y_credit)\n",
    "best_parameters = grid_search.best_params_\n",
    "best_results = grid_search.best_score_\n",
    "print(best_parameters)\n",
    "print(best_results)"
   ]
  },
  {
   "cell_type": "markdown",
   "id": "5e34d1bb",
   "metadata": {},
   "source": [
    "kNN"
   ]
  },
  {
   "cell_type": "code",
   "execution_count": 20,
   "id": "9f54ff5d",
   "metadata": {},
   "outputs": [],
   "source": [
    "parameters = {'n_neighbors': [3, 5, 10, 20],\n",
    "              'p': [1, 2]}"
   ]
  },
  {
   "cell_type": "code",
   "execution_count": 21,
   "id": "e77d11f4",
   "metadata": {},
   "outputs": [
    {
     "name": "stdout",
     "output_type": "stream",
     "text": [
      "{'n_neighbors': 20, 'p': 1}\n",
      "0.9800000000000001\n"
     ]
    }
   ],
   "source": [
    "grid_search = GridSearchCV(estimator=KNeighborsClassifier(), param_grid=parameters)\n",
    "grid_search.fit(x_credit, y_credit)\n",
    "best_parameters = grid_search.best_params_\n",
    "best_results = grid_search.best_score_\n",
    "print(best_parameters)\n",
    "print(best_results)"
   ]
  },
  {
   "cell_type": "markdown",
   "id": "23c9ddbe",
   "metadata": {},
   "source": [
    "Logistic Regression"
   ]
  },
  {
   "cell_type": "code",
   "execution_count": 24,
   "id": "b73a952d",
   "metadata": {},
   "outputs": [],
   "source": [
    "parameters ={'tol': [0.0001, 0.00001, 0.000001],\n",
    "             'C': [1.0, 1.5, 2.0],\n",
    "             'solver': ['lbfgs', 'sag', 'saga']}"
   ]
  },
  {
   "cell_type": "code",
   "execution_count": 25,
   "id": "011aa81f",
   "metadata": {},
   "outputs": [
    {
     "name": "stdout",
     "output_type": "stream",
     "text": [
      "{'C': 1.0, 'solver': 'lbfgs', 'tol': 0.0001}\n",
      "0.9484999999999999\n"
     ]
    }
   ],
   "source": [
    "grid_search = GridSearchCV(estimator=LogisticRegression(), param_grid=parameters)\n",
    "grid_search.fit(x_credit, y_credit)\n",
    "best_parameters = grid_search.best_params_\n",
    "best_results = grid_search.best_score_\n",
    "print(best_parameters)\n",
    "print(best_results)"
   ]
  },
  {
   "cell_type": "markdown",
   "id": "aa94f441",
   "metadata": {},
   "source": [
    "SVM"
   ]
  },
  {
   "cell_type": "code",
   "execution_count": 26,
   "id": "3beb9284",
   "metadata": {},
   "outputs": [],
   "source": [
    "parameters = {'tol': [0.001, 0.0001, 0.00001],\n",
    "              'C': [1.0, 1.5, 2.0],\n",
    "              'kernel': ['rbf', 'linear', 'poly', 'sigmoid']}"
   ]
  },
  {
   "cell_type": "code",
   "execution_count": 27,
   "id": "4edcc9c8",
   "metadata": {},
   "outputs": [
    {
     "name": "stdout",
     "output_type": "stream",
     "text": [
      "{'C': 1.5, 'kernel': 'rbf', 'tol': 0.001}\n",
      "0.9829999999999999\n"
     ]
    }
   ],
   "source": [
    "grid_search = GridSearchCV(estimator=SVC(), param_grid=parameters)\n",
    "grid_search.fit(x_credit, y_credit)\n",
    "best_parameters = grid_search.best_params_\n",
    "best_results = grid_search.best_score_\n",
    "print(best_parameters)\n",
    "print(best_results)"
   ]
  },
  {
   "cell_type": "markdown",
   "id": "e0993e36",
   "metadata": {},
   "source": [
    "Neural Networks"
   ]
  },
  {
   "cell_type": "code",
   "execution_count": 28,
   "id": "b1794dfc",
   "metadata": {},
   "outputs": [],
   "source": [
    "parameters = {'activation': ['relu', 'logistic', 'tanh'],\n",
    "              'solver': ['adam', 'sgd'],\n",
    "              'batch_size': [10, 56]}"
   ]
  },
  {
   "cell_type": "code",
   "execution_count": null,
   "id": "e1c3ad9e",
   "metadata": {},
   "outputs": [],
   "source": [
    "grid_search = GridSearchCV(estimator=MLPClassifier(), param_grid=parameters)\n",
    "grid_search.fit(x_credit, y_credit)\n",
    "best_parameters = grid_search.best_params_\n",
    "best_results = grid_search.best_score_\n"
   ]
  },
  {
   "cell_type": "code",
   "execution_count": 30,
   "id": "11f22a4c",
   "metadata": {},
   "outputs": [
    {
     "name": "stdout",
     "output_type": "stream",
     "text": [
      "{'activation': 'relu', 'batch_size': 56, 'solver': 'adam'}\n",
      "0.9970000000000001\n"
     ]
    }
   ],
   "source": [
    "print(best_parameters)\n",
    "print(best_results)"
   ]
  }
 ],
 "metadata": {
  "kernelspec": {
   "display_name": "Python 3",
   "language": "python",
   "name": "python3"
  },
  "language_info": {
   "codemirror_mode": {
    "name": "ipython",
    "version": 3
   },
   "file_extension": ".py",
   "mimetype": "text/x-python",
   "name": "python",
   "nbconvert_exporter": "python",
   "pygments_lexer": "ipython3",
   "version": "3.10.12"
  }
 },
 "nbformat": 4,
 "nbformat_minor": 5
}
